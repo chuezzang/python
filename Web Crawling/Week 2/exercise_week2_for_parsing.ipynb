{
 "cells": [
  {
   "cell_type": "code",
   "execution_count": 1,
   "metadata": {},
   "outputs": [
    {
     "name": "stdout",
     "output_type": "stream",
     "text": [
      "<html>\n",
      "<head>\n",
      "<title>Welcome to the comments assignment from www.py4e.com</title>\n",
      "</head>\n",
      "<body>\n",
      "<h1>This file contains the sample data for testing</h1>\n",
      "\n",
      "<table border=\"2\">\n",
      "<tr>\n",
      "<td>Name</td><td>Comments</td>\n",
      "</tr>\n",
      "<tr><td>Romina</td><td><span class=\"comments\">97</span></td></tr>\n",
      "<tr><td>Laurie</td><td><span class=\"comments\">97</span></td></tr>\n",
      "<tr><td>Bayli</td><td><span class=\"comments\">90</span></td></tr>\n",
      "<tr><td>Siyona</td><td><span class=\"comments\">90</span></td></tr>\n",
      "<tr><td>Taisha</td><td><span class=\"comments\">88</span></td></tr>\n",
      "<tr><td>Alanda</td><td><span class=\"comments\">87</span></td></tr>\n",
      "<tr><td>Ameelia</td><td><span class=\"comments\">87</span></td></tr>\n",
      "<tr><td>Prasheeta</td><td><span class=\"comments\">80</span></td></tr>\n",
      "<tr><td>Asif</td><td><span class=\"comments\">79</span></td></tr>\n",
      "<tr><td>Risa</td><td><span class=\"comments\">79</span></td></tr>\n",
      "<tr><td>Zi</td><td><span class=\"comments\">78</span></td></tr>\n",
      "<tr><td>Danyil</td><td><span class=\"comments\">76</span></td></tr>\n",
      "<tr><td>Ediomi</td><td><span class=\"comments\">76</span></td></tr>\n",
      "<tr><td>Barry</td><td><span class=\"comments\">72</span></td></tr>\n",
      "<tr><td>Lance</td><td><span class=\"comments\">72</span></td></tr>\n",
      "<tr><td>Hattie</td><td><span class=\"comments\">66</span></td></tr>\n",
      "<tr><td>Mathu</td><td><span class=\"comments\">66</span></td></tr>\n",
      "<tr><td>Bowie</td><td><span class=\"comments\">65</span></td></tr>\n",
      "<tr><td>Samara</td><td><span class=\"comments\">65</span></td></tr>\n",
      "<tr><td>Uchenna</td><td><span class=\"comments\">64</span></td></tr>\n",
      "<tr><td>Shauni</td><td><span class=\"comments\">61</span></td></tr>\n",
      "<tr><td>Georgia</td><td><span class=\"comments\">61</span></td></tr>\n",
      "<tr><td>Rivan</td><td><span class=\"comments\">59</span></td></tr>\n",
      "<tr><td>Kenan</td><td><span class=\"comments\">58</span></td></tr>\n",
      "<tr><td>Hassan</td><td><span class=\"comments\">57</span></td></tr>\n",
      "<tr><td>Isma</td><td><span class=\"comments\">57</span></td></tr>\n",
      "<tr><td>Samanthalee</td><td><span class=\"comments\">54</span></td></tr>\n",
      "<tr><td>Alexa</td><td><span class=\"comments\">51</span></td></tr>\n",
      "<tr><td>Caine</td><td><span class=\"comments\">49</span></td></tr>\n",
      "<tr><td>Grady</td><td><span class=\"comments\">47</span></td></tr>\n",
      "<tr><td>Anne</td><td><span class=\"comments\">40</span></td></tr>\n",
      "<tr><td>Rihan</td><td><span class=\"comments\">38</span></td></tr>\n",
      "<tr><td>Alexei</td><td><span class=\"comments\">37</span></td></tr>\n",
      "<tr><td>Indie</td><td><span class=\"comments\">36</span></td></tr>\n",
      "<tr><td>Rhuairidh</td><td><span class=\"comments\">36</span></td></tr>\n",
      "<tr><td>Annoushka</td><td><span class=\"comments\">32</span></td></tr>\n",
      "<tr><td>Kenzi</td><td><span class=\"comments\">25</span></td></tr>\n",
      "<tr><td>Shahd</td><td><span class=\"comments\">24</span></td></tr>\n",
      "<tr><td>Irvine</td><td><span class=\"comments\">22</span></td></tr>\n",
      "<tr><td>Carys</td><td><span class=\"comments\">21</span></td></tr>\n",
      "<tr><td>Skye</td><td><span class=\"comments\">19</span></td></tr>\n",
      "<tr><td>Atiya</td><td><span class=\"comments\">18</span></td></tr>\n",
      "<tr><td>Rohan</td><td><span class=\"comments\">18</span></td></tr>\n",
      "<tr><td>Nuala</td><td><span class=\"comments\">14</span></td></tr>\n",
      "<tr><td>Maram</td><td><span class=\"comments\">12</span></td></tr>\n",
      "<tr><td>Carlo</td><td><span class=\"comments\">12</span></td></tr>\n",
      "<tr><td>Japleen</td><td><span class=\"comments\">9</span></td></tr>\n",
      "<tr><td>Breeanna</td><td><span class=\"comments\">7</span></td></tr>\n",
      "<tr><td>Zaaine</td><td><span class=\"comments\">3</span></td></tr>\n",
      "<tr><td>Inika</td><td><span class=\"comments\">2</span></td></tr>\n",
      "</table>\n",
      "</body>\n",
      "</html>\n"
     ]
    }
   ],
   "source": [
    "import urllib.request\n",
    "\n",
    "fhand = urllib.request.urlopen('http://python-data.dr-chuck.net/comments_42.html')\n",
    "\n",
    "for line in fhand:\n",
    "    print(line.decode().strip())\n"
   ]
  },
  {
   "cell_type": "code",
   "execution_count": 2,
   "metadata": {},
   "outputs": [
    {
     "name": "stdout",
     "output_type": "stream",
     "text": [
      "Number of Comments: 50, Total Count: 2553\n"
     ]
    }
   ],
   "source": [
    "# [질문 2]\n",
    "# http://python-data.dr-chuck.net/comments_42.html 해당 URL의 html을 load한 후, \n",
    "# comments의 총 갯수와 comments에 있는 각 count들을 모두 더해서 출력하는 파이썬 프로그램을 작성해주세요. \n",
    "# (urllib, BeautifulSoup 등을 import 하여 사용하시면 됩니다.) \n",
    "\n",
    "import urllib.request\n",
    "from bs4 import BeautifulSoup\n",
    "import re\n",
    " \n",
    "url = 'http://py4e-data.dr-chuck.net/comments_42.html'\n",
    "html = urllib.request.urlopen(url).read()\n",
    "soup = BeautifulSoup(html, \"html.parser\")\n",
    "\n",
    "comm_number = 0\n",
    "total_count = 0\n",
    "\n",
    "tags = soup('span')\n",
    "\n",
    "for tag in tags:\n",
    "    counts = re.findall('[0-9]+', tag.text)   \n",
    "    for count in counts:\n",
    "        comm_number += 1\n",
    "        total_count += int(count)\n",
    " \n",
    "print(\"Number of Comments: {0:2}, Total Count: {1:4}\".format(comm_number, total_count))"
   ]
  },
  {
   "cell_type": "code",
   "execution_count": 6,
   "metadata": {},
   "outputs": [
    {
     "name": "stdout",
     "output_type": "stream",
     "text": [
      "Number of Comments: 50, Total Count: 2553\n"
     ]
    }
   ],
   "source": [
    "import urllib.request\n",
    "from bs4 import BeautifulSoup\n",
    "import re\n",
    " \n",
    "url = 'http://py4e-data.dr-chuck.net/comments_42.html'\n",
    "html = urllib.request.urlopen(url).read()\n",
    "soup = BeautifulSoup(html, \"html.parser\")\n",
    "\n",
    "comm_number = 0\n",
    "total_count = 0\n",
    "\n",
    "tags = soup('span')\n",
    "\n",
    "for tag in tags:\n",
    "    counts = re.findall('[0-9]+', tag.text)   \n",
    "    for count in counts:\n",
    "        comm_number += 1\n",
    "        total_count += int(count)\n",
    " \n",
    "\n",
    "print(\"Number of Comments: {0:2}, Total Count: {1:4}\".format(comm_number, total_count))"
   ]
  },
  {
   "cell_type": "code",
   "execution_count": null,
   "metadata": {},
   "outputs": [],
   "source": []
  },
  {
   "cell_type": "code",
   "execution_count": null,
   "metadata": {},
   "outputs": [],
   "source": []
  },
  {
   "cell_type": "code",
   "execution_count": 13,
   "metadata": {},
   "outputs": [
    {
     "name": "stdout",
     "output_type": "stream",
     "text": [
      "Number of Comments: 50, Total Count: 2553\n"
     ]
    }
   ],
   "source": [
    "#[질문 3] http://python-data.dr-chuck.net/comments_42.xml해당 URL의 xml을 load한 후, \n",
    "#comments의 총 갯수와 comments에 있는 각 count들을 모두 더해서 출력하는 \n",
    "#파이썬 프로그램을 작성해주세요. \n",
    "#(urllib, xml.etree.ElementTree 등을 import 하여 사용하시면 됩니다.) \n",
    "\n",
    "import urllib.request as ur\n",
    "import xml.etree.ElementTree as et\n",
    " \n",
    "comm_number = 0\n",
    "total_count = 0\n",
    "\n",
    "url = 'http://python-data.dr-chuck.net/comments_42.xml'\n",
    "\n",
    "# print('Retrieving', url)\n",
    "xml = ur.urlopen(url).read()\n",
    "# print('Retrieved', len(xml), 'characters')\n",
    "\n",
    "tree = et.fromstring(xml)\n",
    "counts = tree.findall('.//count')\n",
    "for count in counts:\n",
    "    comm_number += 1\n",
    "    total_count += int(count.text)\n",
    "\n",
    "print(\"Number of Comments: {0:2}, Total Count: {1:4}\".format(comm_number, total_count))"
   ]
  },
  {
   "cell_type": "code",
   "execution_count": null,
   "metadata": {},
   "outputs": [],
   "source": []
  },
  {
   "cell_type": "code",
   "execution_count": 19,
   "metadata": {},
   "outputs": [
    {
     "name": "stdout",
     "output_type": "stream",
     "text": [
      "<class 'list'>\n",
      "number of comments: 50 total count: 2553\n"
     ]
    }
   ],
   "source": [
    "import urllib.request\n",
    "import xml.etree.ElementTree as ET\n",
    "\n",
    "url='http://python-data.dr-chuck.net/comments_42.xml'\n",
    "\n",
    "# 아래 3줄은 거의 공통 코드로 사용함. \n",
    "request = urllib.request.Request(url)\n",
    "response = urllib.request.urlopen(request)\n",
    "tree = ET.parse(response)\n",
    "root = tree.getroot()\n",
    "\n",
    "items = root.findall('comments/comment')\n",
    "print(type(items))\n",
    "\n",
    "sum = 0\n",
    "\n",
    "for imsi in items :\n",
    "    count = imsi.find('count').text\n",
    "    counts = int(count)\n",
    "#     print(type(counts))\n",
    "    sum = sum + counts\n",
    "\n",
    "print('number of comments:',len(items),'total count:',sum)"
   ]
  },
  {
   "cell_type": "code",
   "execution_count": null,
   "metadata": {},
   "outputs": [],
   "source": []
  },
  {
   "cell_type": "code",
   "execution_count": 10,
   "metadata": {},
   "outputs": [
    {
     "name": "stdout",
     "output_type": "stream",
     "text": [
      "Number of Comments: 50, Total Count: 2571\n"
     ]
    }
   ],
   "source": [
    "# [질문 4] \n",
    "# http://python-data.dr-chuck.net/comments_353540.json해당 URL의 json을 load한 후, \n",
    "# comments의 총 갯수와 comments에 있는 각 count들을 모두 더해서 출력하는 파이썬 프로그램을 작성해주세요.\n",
    "# (urllib, json 등을 import 하여 사용하시면 됩니다.)\n",
    "\n",
    "import urllib.request as ur\n",
    "import json\n",
    "\n",
    "json_url = 'http://python-data.dr-chuck.net/comments_353540.json'\n",
    "# json_url = input(\"Enter location: \")\n",
    "\n",
    "# print(\"Retrieving \", json_url)\n",
    "data = ur.urlopen(json_url).read().decode('utf-8')\n",
    "# print('Retrieved', len(data), 'characters')\n",
    "json_obj = json.loads(data)\n",
    "\n",
    "comm_number = 0\n",
    "total_count = 0\n",
    "\n",
    "for comment in json_obj[\"comments\"]:\n",
    "    comm_number += 1\n",
    "    total_count += int(comment[\"count\"])\n",
    "\n",
    "print(\"Number of Comments: {0:2}, Total Count: {1:4}\".format(comm_number, total_count))"
   ]
  },
  {
   "cell_type": "code",
   "execution_count": null,
   "metadata": {},
   "outputs": [],
   "source": []
  },
  {
   "cell_type": "code",
   "execution_count": null,
   "metadata": {},
   "outputs": [],
   "source": []
  }
 ],
 "metadata": {
  "kernelspec": {
   "display_name": "Python 3",
   "language": "python",
   "name": "python3"
  },
  "language_info": {
   "codemirror_mode": {
    "name": "ipython",
    "version": 3
   },
   "file_extension": ".py",
   "mimetype": "text/x-python",
   "name": "python",
   "nbconvert_exporter": "python",
   "pygments_lexer": "ipython3",
   "version": "3.6.5"
  }
 },
 "nbformat": 4,
 "nbformat_minor": 2
}
